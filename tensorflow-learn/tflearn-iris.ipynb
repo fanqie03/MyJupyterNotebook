{
 "cells": [
  {
   "cell_type": "markdown",
   "metadata": {},
   "source": [
    "# 使用tflearn解决iris分类问题"
   ]
  },
  {
   "cell_type": "code",
   "execution_count": 4,
   "metadata": {},
   "outputs": [],
   "source": [
    "from sklearn.svm.libsvm import cross_validation # 交叉验证\n",
    "from sklearn import datasets #数据集\n",
    "from sklearn import metrics #衡量指标\n",
    "import tensorflow as tf\n",
    "\n",
    "# 导入TFLearn\n",
    "learn = tf.contrib.learn"
   ]
  },
  {
   "cell_type": "markdown",
   "metadata": {},
   "source": [
    "## 自定义模型"
   ]
  },
  {
   "cell_type": "code",
   "execution_count": 5,
   "metadata": {},
   "outputs": [],
   "source": [
    "def my_model(features, target):\n",
    "    '''\n",
    "    features:输入数据\n",
    "    target：对应的正确答案\n",
    "    return：在这些输入上的预测值、损失值、训练步骤\n",
    "    '''\n",
    "    # 将目标转成one-hot编码形式\n",
    "    target=tf.one_hot(target,3,1,0)\n",
    "    \n",
    "    # 定义模型，在给定数据上的loss\n",
    "    # logistic_regression封装了一个单层全连接nn\n",
    "    logits, loss = learn.models.logistic_regression(features, target)\n",
    "    \n",
    "    # 创建模型优化器，并得到优化步骤。\n",
    "    train_op = tf.contrib.layers.optimize_loss(\n",
    "        loss,# 损失函数\n",
    "        tf.contrib.framework.get_global_step(),# 获取训练步数并在训练时更新\n",
    "        optimizer='Adagrad', # 定义优化器\n",
    "        learning_rate=0.1)# 定义学习率\n",
    "    \n",
    "    # 返回给定数据上的优化结果、损失值和优化步骤\n",
    "    return tf.arg_max(logits,1),loss,train_op\n",
    "    "
   ]
  },
  {
   "cell_type": "code",
   "execution_count": 31,
   "metadata": {},
   "outputs": [],
   "source": [
    "def split_data(data,target,test_size=0.2):\n",
    "    '''\n",
    "    分割数据\n",
    "    data为输入数据数组\n",
    "    target为正确答案数组\n",
    "    '''\n",
    "    train_size = 1-test_size\n",
    "    train_len = int(len(data)*train_size)\n",
    "    return data[:train_len],data[train_len:],target[:train_len],target[train_len:]"
   ]
  },
  {
   "cell_type": "markdown",
   "metadata": {},
   "source": [
    "## 加载iris数据"
   ]
  },
  {
   "cell_type": "code",
   "execution_count": 45,
   "metadata": {},
   "outputs": [
    {
     "name": "stdout",
     "output_type": "stream",
     "text": [
      "INFO:tensorflow:Using default config.\n",
      "WARNING:tensorflow:Using temporary folder as model directory: C:\\Users\\Skiner\\AppData\\Local\\Temp\\tmp7ila7eut\n",
      "INFO:tensorflow:Using config: {'_is_chief': True, '_save_checkpoints_steps': None, '_keep_checkpoint_max': 5, '_save_summary_steps': 100, '_log_step_count_steps': 100, '_device_fn': None, '_save_checkpoints_secs': 600, '_tf_config': gpu_options {\n",
      "  per_process_gpu_memory_fraction: 1\n",
      "}\n",
      ", '_tf_random_seed': None, '_master': '', '_num_worker_replicas': 0, '_task_id': 0, '_model_dir': 'C:\\\\Users\\\\Skiner\\\\AppData\\\\Local\\\\Temp\\\\tmp7ila7eut', '_num_ps_replicas': 0, '_environment': 'local', '_session_config': None, '_cluster_spec': <tensorflow.python.training.server_lib.ClusterSpec object at 0x000002814974A0F0>, '_evaluation_master': '', '_train_distribute': None, '_task_type': None, '_keep_checkpoint_every_n_hours': 10000}\n"
     ]
    }
   ],
   "source": [
    "iris = datasets.load_iris()\n",
    "x_train,x_test,y_train,y_test = split_data(iris.data,iris.target)\n",
    "# Estimator class is the basic TensorFlow model trainer/evaluator.\n",
    "# Scikit learn wrapper for TensorFlow Learn Estimator.\n",
    "classfier = learn.SKCompat(learn.Estimator(model_fn=my_model))"
   ]
  },
  {
   "cell_type": "code",
   "execution_count": 46,
   "metadata": {},
   "outputs": [
    {
     "name": "stdout",
     "output_type": "stream",
     "text": [
      "WARNING:tensorflow:float64 is not supported by many models, consider casting to float32.\n",
      "INFO:tensorflow:Create CheckpointSaverHook.\n",
      "INFO:tensorflow:Graph was finalized.\n",
      "INFO:tensorflow:Running local_init_op.\n",
      "INFO:tensorflow:Done running local_init_op.\n",
      "INFO:tensorflow:Saving checkpoints for 0 into C:\\Users\\Skiner\\AppData\\Local\\Temp\\tmp7ila7eut\\model.ckpt.\n",
      "INFO:tensorflow:loss = 3.412752389907837, step = 1\n",
      "INFO:tensorflow:Saving checkpoints for 100 into C:\\Users\\Skiner\\AppData\\Local\\Temp\\tmp7ila7eut\\model.ckpt.\n",
      "INFO:tensorflow:Loss for final step: 0.3618524670600891.\n"
     ]
    },
    {
     "data": {
      "text/plain": [
       "SKCompat()"
      ]
     },
     "execution_count": 46,
     "metadata": {},
     "output_type": "execute_result"
    }
   ],
   "source": [
    "# 使用封装好的模型和训练数据执行100轮迭代\n",
    "classfier.fit(x_train, y_train, steps=100)"
   ]
  },
  {
   "cell_type": "code",
   "execution_count": 47,
   "metadata": {
    "scrolled": true
   },
   "outputs": [
    {
     "name": "stdout",
     "output_type": "stream",
     "text": [
      "WARNING:tensorflow:float64 is not supported by many models, consider casting to float32.\n",
      "INFO:tensorflow:Graph was finalized.\n",
      "INFO:tensorflow:Restoring parameters from C:\\Users\\Skiner\\AppData\\Local\\Temp\\tmp7ila7eut\\model.ckpt-100\n",
      "INFO:tensorflow:Running local_init_op.\n",
      "INFO:tensorflow:Done running local_init_op.\n"
     ]
    }
   ],
   "source": [
    "# 使用训练好的模型进行结果预测\n",
    "y_predicted = classfier.predict(x_test)"
   ]
  },
  {
   "cell_type": "code",
   "execution_count": 54,
   "metadata": {},
   "outputs": [
    {
     "name": "stdout",
     "output_type": "stream",
     "text": [
      "WARNING:tensorflow:float64 is not supported by many models, consider casting to float32.\n",
      "INFO:tensorflow:Starting evaluation at 2018-12-29-01:40:32\n",
      "INFO:tensorflow:Graph was finalized.\n",
      "INFO:tensorflow:Restoring parameters from C:\\Users\\Skiner\\AppData\\Local\\Temp\\tmp7ila7eut\\model.ckpt-100\n",
      "INFO:tensorflow:Running local_init_op.\n",
      "INFO:tensorflow:Done running local_init_op.\n",
      "INFO:tensorflow:Finished evaluation at 2018-12-29-01:40:32\n",
      "INFO:tensorflow:Saving dict for global step 100: global_step = 100, loss = 0.94602036\n"
     ]
    }
   ],
   "source": [
    "# 计算模型的准确度\n",
    "score = classfier.score(x_test,y_test)"
   ]
  },
  {
   "cell_type": "code",
   "execution_count": 55,
   "metadata": {},
   "outputs": [
    {
     "data": {
      "text/plain": [
       "array([1, 1, 2, 1, 1, 1, 1, 1, 1, 1, 1, 1, 1, 1, 1, 1, 1, 1, 1, 1, 1, 1,\n",
       "       1, 1, 1, 1, 1, 1, 1, 1], dtype=int64)"
      ]
     },
     "execution_count": 55,
     "metadata": {},
     "output_type": "execute_result"
    }
   ],
   "source": [
    "y_predicted"
   ]
  },
  {
   "cell_type": "code",
   "execution_count": 56,
   "metadata": {},
   "outputs": [
    {
     "data": {
      "text/plain": [
       "array([2, 2, 2, 2, 2, 2, 2, 2, 2, 2, 2, 2, 2, 2, 2, 2, 2, 2, 2, 2, 2, 2,\n",
       "       2, 2, 2, 2, 2, 2, 2, 2])"
      ]
     },
     "execution_count": 56,
     "metadata": {},
     "output_type": "execute_result"
    }
   ],
   "source": [
    "y_test"
   ]
  }
 ],
 "metadata": {
  "kernelspec": {
   "display_name": "Python 3",
   "language": "python",
   "name": "python3"
  },
  "language_info": {
   "codemirror_mode": {
    "name": "ipython",
    "version": 3
   },
   "file_extension": ".py",
   "mimetype": "text/x-python",
   "name": "python",
   "nbconvert_exporter": "python",
   "pygments_lexer": "ipython3",
   "version": "3.5.6"
  }
 },
 "nbformat": 4,
 "nbformat_minor": 2
}
